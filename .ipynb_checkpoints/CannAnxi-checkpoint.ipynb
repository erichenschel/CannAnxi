{
 "cells": [
  {
   "cell_type": "code",
   "execution_count": 1,
   "metadata": {},
   "outputs": [],
   "source": [
    "import pandas as pd\n",
    "import numpy as np\n",
    "import bs4\n",
    "from bs4 import BeautifulSoup"
   ]
  },
  {
   "cell_type": "code",
   "execution_count": 2,
   "metadata": {},
   "outputs": [],
   "source": [
    "# objective: classify cannabis' dominant strain [Indica, Sativa] \n",
    "# from chemical data"
   ]
  },
  {
   "cell_type": "code",
   "execution_count": 3,
   "metadata": {},
   "outputs": [],
   "source": [
    "# Gather data ---------------------------------------------------"
   ]
  },
  {
   "cell_type": "code",
   "execution_count": 21,
   "metadata": {},
   "outputs": [],
   "source": [
    "# CSV Chemical Data\n",
    "loc = '~/Desktop/portfolio/CannAnxi/Canna.csv'\n",
    "df = pd.read_csv(loc)"
   ]
  },
  {
   "cell_type": "code",
   "execution_count": 22,
   "metadata": {},
   "outputs": [],
   "source": [
    "# cleaning CSV data -- dropping columns not of interest\n",
    "to_drop = [\n",
    "    'OCPID',\n",
    "    'Δ8-THC',\n",
    "    'Strain',\n",
    "    'SampleID',\n",
    "    'DateRecorded',\n",
    "    'ReportType',\n",
    "    'ChemicalLab',\n",
    "    'H2O',\n",
    "    'TotalTHC',\n",
    "    'GeneticLab',\n",
    "    'Sample',\n",
    "    'SampleURL',\n",
    "    'Organism',\n",
    "    'OrganismURL',\n",
    "    'Project',\n",
    "    'ProjectURL',\n",
    "    'Study',\n",
    "    'StudyURL',\n",
    "    'Run',\n",
    "    'RunURL',\n",
    "    'DatePublished',\n",
    "    'Spots',\n",
    "    'Bases',\n",
    "    'Size',\n",
    "    'Notes',\n",
    "]\n",
    "\n",
    "# save strain names \n",
    "namesDf = df['Strain']\n",
    "namesDf = namesDf[:255]\n",
    "# display(namesDf)\n",
    "\n",
    "# drop features\n",
    "df = df.drop(to_drop, axis=1)"
   ]
  },
  {
   "cell_type": "code",
   "execution_count": 23,
   "metadata": {},
   "outputs": [],
   "source": [
    "# cleaning data -- cut rows --> only include chemical data (rows == 255)\n",
    "df = df[:255]"
   ]
  },
  {
   "cell_type": "code",
   "execution_count": 27,
   "metadata": {},
   "outputs": [],
   "source": [
    "# cleaning data -- replace NaN vals with 0 \n",
    "# i.e. chemical is not present in sample\n",
    "df = df.fillna(0)"
   ]
  },
  {
   "cell_type": "code",
   "execution_count": 28,
   "metadata": {},
   "outputs": [
    {
     "name": "stdout",
     "output_type": "stream",
     "text": [
      "<class 'pandas.core.frame.DataFrame'>\n",
      "RangeIndex: 255 entries, 0 to 254\n",
      "Data columns (total 33 columns):\n",
      " #   Column              Non-Null Count  Dtype  \n",
      "---  ------              --------------  -----  \n",
      " 0   THC                 255 non-null    float64\n",
      " 1   Δ9-THC              255 non-null    float64\n",
      " 2   THCA                255 non-null    float64\n",
      " 3   THCV                255 non-null    float64\n",
      " 4   TotalCBD            255 non-null    float64\n",
      " 5   CBDA                255 non-null    float64\n",
      " 6   CBDV                255 non-null    float64\n",
      " 7   CBDVA               255 non-null    float64\n",
      " 8   CBC                 255 non-null    float64\n",
      " 9   CBG                 255 non-null    float64\n",
      " 10  CBN                 255 non-null    float64\n",
      " 11  α-Pinene            255 non-null    float64\n",
      " 12  Camphene            255 non-null    float64\n",
      " 13  Myrcene             255 non-null    float64\n",
      " 14  β-Pinene            255 non-null    float64\n",
      " 15  3-Carene            255 non-null    float64\n",
      " 16  α-Terpinene         255 non-null    float64\n",
      " 17  D-Limonene          255 non-null    float64\n",
      " 18  p-Cymene            255 non-null    float64\n",
      " 19  Ocimene             255 non-null    float64\n",
      " 20  Eucalyptol          255 non-null    float64\n",
      " 21  γ-Terpinene         255 non-null    float64\n",
      " 22  Terpinolene         255 non-null    float64\n",
      " 23  Linalool            255 non-null    float64\n",
      " 24  Isopulegol          255 non-null    float64\n",
      " 25  Geraniol            255 non-null    float64\n",
      " 26  β-Caryophyllene     255 non-null    float64\n",
      " 27  α-Humelene          255 non-null    float64\n",
      " 28  Nerolidol-1         255 non-null    float64\n",
      " 29  Nerolidol-2         255 non-null    float64\n",
      " 30  Guaiol              255 non-null    float64\n",
      " 31  CaryophylleneOxide  255 non-null    float64\n",
      " 32  α-Bisabolol         255 non-null    float64\n",
      "dtypes: float64(33)\n",
      "memory usage: 65.9 KB\n"
     ]
    }
   ],
   "source": []
  },
  {
   "cell_type": "code",
   "execution_count": null,
   "metadata": {},
   "outputs": [],
   "source": []
  }
 ],
 "metadata": {
  "kernelspec": {
   "display_name": "Python 3",
   "language": "python",
   "name": "python3"
  },
  "language_info": {
   "codemirror_mode": {
    "name": "ipython",
    "version": 3
   },
   "file_extension": ".py",
   "mimetype": "text/x-python",
   "name": "python",
   "nbconvert_exporter": "python",
   "pygments_lexer": "ipython3",
   "version": "3.7.6"
  }
 },
 "nbformat": 4,
 "nbformat_minor": 4
}
