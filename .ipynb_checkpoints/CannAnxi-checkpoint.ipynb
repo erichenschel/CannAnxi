{
 "cells": [
  {
   "cell_type": "code",
   "execution_count": 1,
   "metadata": {},
   "outputs": [],
   "source": [
    "import pandas as pd\n",
    "import numpy as np\n",
    "import bs4\n",
    "from bs4 import BeautifulSoup"
   ]
  },
  {
   "cell_type": "code",
   "execution_count": 2,
   "metadata": {},
   "outputs": [],
   "source": [
    "# objective: classify cannabis' dominant strain [Indica, Sativa] \n",
    "# from chemical data"
   ]
  },
  {
   "cell_type": "code",
   "execution_count": 3,
   "metadata": {},
   "outputs": [],
   "source": [
    "# Gather data"
   ]
  },
  {
   "cell_type": "code",
   "execution_count": 4,
   "metadata": {},
   "outputs": [],
   "source": [
    "# CSV Chemical Data\n",
    "loc = '~/Desktop/portfolio/CannAnxi/Canna.csv'\n",
    "df = pd.read_csv(loc)"
   ]
  },
  {
   "cell_type": "code",
   "execution_count": 5,
   "metadata": {},
   "outputs": [
    {
     "name": "stdout",
     "output_type": "stream",
     "text": [
      "<class 'pandas.core.frame.DataFrame'>\n",
      "RangeIndex: 1099 entries, 0 to 1098\n",
      "Data columns (total 58 columns):\n",
      " #   Column              Non-Null Count  Dtype  \n",
      "---  ------              --------------  -----  \n",
      " 0   OCPID               1099 non-null   int64  \n",
      " 1   Strain              1099 non-null   object \n",
      " 2   SampleID            255 non-null    float64\n",
      " 3   DateRecorded        1099 non-null   object \n",
      " 4   ReportType          1099 non-null   object \n",
      " 5   ChemicalLab         255 non-null    object \n",
      " 6   H2O                 255 non-null    object \n",
      " 7   TotalTHC            255 non-null    float64\n",
      " 8   THC                 255 non-null    float64\n",
      " 9   Δ8-THC              159 non-null    float64\n",
      " 10  Δ9-THC              255 non-null    float64\n",
      " 11  THCA                255 non-null    float64\n",
      " 12  THCV                159 non-null    float64\n",
      " 13  TotalCBD            255 non-null    float64\n",
      " 14  CBDA                255 non-null    float64\n",
      " 15  CBDV                159 non-null    float64\n",
      " 16  CBDVA               159 non-null    float64\n",
      " 17  CBC                 159 non-null    float64\n",
      " 18  CBG                 159 non-null    float64\n",
      " 19  CBN                 159 non-null    float64\n",
      " 20  α-Pinene            255 non-null    float64\n",
      " 21  Camphene            255 non-null    float64\n",
      " 22  Myrcene             255 non-null    float64\n",
      " 23  β-Pinene            255 non-null    float64\n",
      " 24  3-Carene            255 non-null    float64\n",
      " 25  α-Terpinene         255 non-null    float64\n",
      " 26  D-Limonene          255 non-null    float64\n",
      " 27  p-Cymene            255 non-null    float64\n",
      " 28  Ocimene             255 non-null    float64\n",
      " 29  Eucalyptol          255 non-null    float64\n",
      " 30  γ-Terpinene         255 non-null    float64\n",
      " 31  Terpinolene         255 non-null    float64\n",
      " 32  Linalool            255 non-null    float64\n",
      " 33  Isopulegol          255 non-null    float64\n",
      " 34  Geraniol            255 non-null    float64\n",
      " 35  β-Caryophyllene     255 non-null    float64\n",
      " 36  α-Humelene          255 non-null    float64\n",
      " 37  Nerolidol-1         255 non-null    float64\n",
      " 38  Nerolidol-2         255 non-null    float64\n",
      " 39  Guaiol              255 non-null    float64\n",
      " 40  CaryophylleneOxide  255 non-null    float64\n",
      " 41  α-Bisabolol         255 non-null    float64\n",
      " 42  GeneticLab          851 non-null    object \n",
      " 43  Sample              851 non-null    object \n",
      " 44  SampleURL           851 non-null    object \n",
      " 45  Organism            851 non-null    object \n",
      " 46  OrganismURL         851 non-null    object \n",
      " 47  Project             851 non-null    object \n",
      " 48  ProjectURL          851 non-null    object \n",
      " 49  Study               851 non-null    object \n",
      " 50  StudyURL            851 non-null    object \n",
      " 51  Run                 851 non-null    object \n",
      " 52  RunURL              851 non-null    object \n",
      " 53  DatePublished       851 non-null    object \n",
      " 54  Spots               851 non-null    float64\n",
      " 55  Bases               851 non-null    float64\n",
      " 56  Size                851 non-null    object \n",
      " 57  Notes               0 non-null      float64\n",
      "dtypes: float64(39), int64(1), object(18)\n",
      "memory usage: 498.1+ KB\n"
     ]
    }
   ],
   "source": [
    "df.info()"
   ]
  },
  {
   "cell_type": "code",
   "execution_count": null,
   "metadata": {},
   "outputs": [],
   "source": [
    "to_drop = [\n",
    "    'OCPID',\n",
    "    'Strain',\n",
    "    'SampleID',\n",
    "    'DateRecorded',\n",
    "    'ReportType',\n",
    "    'ChemicalLab',\n",
    "    'H2O',\n",
    "    'TotalTHC',\n",
    "    'GeneticLab',\n",
    "    'Sample',\n",
    "    'SampleURL',\n",
    "    'Organism',\n",
    "    'OrganismURL',\n",
    "    'Project',\n",
    "    'ProjectURL',\n",
    "    'Study',\n",
    "    'StudyURL',\n",
    "    'Run',\n",
    "    'RunURL',\n",
    "    'DatePublished',\n",
    "    'Spots',\n",
    "    'Bases',\n",
    "    'Size',\n",
    "    'Notes',\n",
    "]"
   ]
  }
 ],
 "metadata": {
  "kernelspec": {
   "display_name": "Python 3",
   "language": "python",
   "name": "python3"
  },
  "language_info": {
   "codemirror_mode": {
    "name": "ipython",
    "version": 3
   },
   "file_extension": ".py",
   "mimetype": "text/x-python",
   "name": "python",
   "nbconvert_exporter": "python",
   "pygments_lexer": "ipython3",
   "version": "3.7.6"
  }
 },
 "nbformat": 4,
 "nbformat_minor": 4
}
