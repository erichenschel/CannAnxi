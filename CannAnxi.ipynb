{
 "cells": [
  {
   "cell_type": "code",
   "execution_count": 2,
   "metadata": {},
   "outputs": [],
   "source": [
    "import pandas as pd\n",
    "import numpy as np\n",
    "import bs4\n",
    "from bs4 import BeautifulSoup\n",
    "import requests\n",
    "from urllib.request import Request, urlopen\n",
    "from bs4 import BeautifulSoup"
   ]
  },
  {
   "cell_type": "code",
   "execution_count": 3,
   "metadata": {},
   "outputs": [],
   "source": [
    "# objective: classify cannabis' dominant strain [Indica, Sativa] \n",
    "# from chemical data"
   ]
  },
  {
   "cell_type": "code",
   "execution_count": 4,
   "metadata": {},
   "outputs": [],
   "source": [
    "# Gather data ---------------------------------------------------"
   ]
  },
  {
   "cell_type": "code",
   "execution_count": 5,
   "metadata": {},
   "outputs": [],
   "source": [
    "# CSV Chemical Data\n",
    "loc = '~/Desktop/portfolio/CannAnxi/Canna.csv'\n",
    "df = pd.read_csv(loc)"
   ]
  },
  {
   "cell_type": "code",
   "execution_count": 6,
   "metadata": {},
   "outputs": [],
   "source": [
    "# cleaning CSV data -- dropping columns not of interest\n",
    "to_drop = [\n",
    "    'OCPID',\n",
    "    'Δ8-THC',\n",
    "    'Strain',\n",
    "    'SampleID',\n",
    "    'DateRecorded',\n",
    "    'ReportType',\n",
    "    'ChemicalLab',\n",
    "    'H2O',\n",
    "    'TotalTHC',\n",
    "    'GeneticLab',\n",
    "    'Sample',\n",
    "    'SampleURL',\n",
    "    'Organism',\n",
    "    'OrganismURL',\n",
    "    'Project',\n",
    "    'ProjectURL',\n",
    "    'Study',\n",
    "    'StudyURL',\n",
    "    'Run',\n",
    "    'RunURL',\n",
    "    'DatePublished',\n",
    "    'Spots',\n",
    "    'Bases',\n",
    "    'Size',\n",
    "    'Notes',\n",
    "]\n",
    "\n",
    "# save strain names \n",
    "namesDf = df['Strain']\n",
    "namesDf = namesDf[:255]\n",
    "# display(namesDf)\n",
    "\n",
    "# drop features\n",
    "df = df.drop(to_drop, axis=1)"
   ]
  },
  {
   "cell_type": "code",
   "execution_count": 7,
   "metadata": {},
   "outputs": [],
   "source": [
    "# cleaning data -- cut rows --> only include chemical data (rows == 255)\n",
    "df = df[:255]"
   ]
  },
  {
   "cell_type": "code",
   "execution_count": 8,
   "metadata": {},
   "outputs": [],
   "source": [
    "# cleaning data -- replace NaN vals with 0 \n",
    "# i.e. chemical is not present in sample\n",
    "df = df.fillna(0)"
   ]
  },
  {
   "cell_type": "code",
   "execution_count": 9,
   "metadata": {},
   "outputs": [],
   "source": [
    "# class labels\n",
    "# for name in namesDf:\n",
    "#     print(name)"
   ]
  },
  {
   "cell_type": "code",
   "execution_count": 10,
   "metadata": {},
   "outputs": [
    {
     "name": "stdout",
     "output_type": "stream",
     "text": [
      "sativa\n"
     ]
    }
   ],
   "source": [
    "# leafly --> HTTPError: HTTP Error 403: Forbidden\n",
    "# Cannasos success parsing -- no success extracting\n",
    "#############\n",
    "# https://potguide.com/strain-profiles/blue-dream/ -- success w/ ~5 strains\n",
    "# \n",
    "\n",
    "\n",
    "url = 'https://www.wikileaf.com/strain/blue-dream/'\n",
    "\n",
    "parse_html_url = urlopen(url)\n",
    "html_page = parse_html_url.read()\n",
    "parse_html_url.close()\n",
    "\n",
    "strain = BeautifulSoup(html_page, \"html.parser\")\n",
    "\n",
    "vals = strain.findAll(\"div\", {\"class\":\"strain-description\"})\n",
    "#val = val.get_text()\n",
    "for val in vals:\n",
    "    val = val.get_text().lower()\n",
    "    #print(val)\n",
    "    if val.find(\"indica\") != -1:\n",
    "        print(\"indica\")\n",
    "        break\n",
    "    elif val.find(\"sativa\") != -1:\n",
    "        print(\"sativa\")\n",
    "        break\n",
    "    else:\n",
    "        pass"
   ]
  },
  {
   "cell_type": "code",
   "execution_count": null,
   "metadata": {
    "scrolled": false
   },
   "outputs": [
    {
     "name": "stdout",
     "output_type": "stream",
     "text": [
      "https://www.wikileaf.com/strain/chem-4/\n",
      "CHEM 4 not found\n",
      "https://www.wikileaf.com/strain/z7/\n",
      "Z7 not found\n",
      "https://www.wikileaf.com/strain/acdc/harlequin/\n",
      "ACDC/Harlequin not found\n",
      "https://www.wikileaf.com/strain/harleywreck/\n",
      "HarleyWreck not found\n",
      "https://www.wikileaf.com/strain/sour-amnesia/\n",
      "sativa\n",
      "https://www.wikileaf.com/strain/jack-herer/\n",
      "indica\n",
      "https://www.wikileaf.com/strain/critical-cheese/\n",
      "https://www.wikileaf.com/strain/sour-tangie/\n",
      "sativa\n",
      "https://www.wikileaf.com/strain/wildfire/\n",
      "WildFire not found\n",
      "https://www.wikileaf.com/strain/papaya/\n",
      "indica\n",
      "https://www.wikileaf.com/strain/cbd-critical-mass/\n",
      "CBD Critical Mass not found\n",
      "https://www.wikileaf.com/strain/moon-puppies/\n",
      "Moon Puppies not found\n",
      "https://www.wikileaf.com/strain/master-kush/\n",
      "indica\n",
      "https://www.wikileaf.com/strain/romulan-grapefruit/\n",
      "indica\n",
      "https://www.wikileaf.com/strain/golden-pineapple/\n",
      "indica\n",
      "https://www.wikileaf.com/strain/kush-med/\n",
      "Kush Med not found\n",
      "https://www.wikileaf.com/strain/blackberry-swirl/\n",
      "Blackberry Swirl not found\n",
      "https://www.wikileaf.com/strain/chuy-purps/\n",
      "Chuy Purps not found\n",
      "https://www.wikileaf.com/strain/young-jedi/\n",
      "Young Jedi not found\n",
      "https://www.wikileaf.com/strain/double-sour-d-mint/\n",
      "Double Sour D Mint not found\n",
      "https://www.wikileaf.com/strain/cannatonic/\n",
      "hybrid\n",
      "https://www.wikileaf.com/strain/ac/dc/\n",
      "AC/DC not found\n",
      "https://www.wikileaf.com/strain/blue-dream/\n",
      "sativa\n",
      "https://www.wikileaf.com/strain/lemon-kush-x-mountain-girl/\n",
      "Lemon Kush X Mountain Girl not found\n",
      "https://www.wikileaf.com/strain/corazon/\n",
      "Corazon not found\n",
      "https://www.wikileaf.com/strain/white-cookies/\n",
      "hybrid\n",
      "https://www.wikileaf.com/strain/super-gold/\n",
      "Super Gold not found\n",
      "https://www.wikileaf.com/strain/black-widow/\n",
      "indica\n",
      "https://www.wikileaf.com/strain/cbdiesel/\n",
      "CBDiesel not found\n",
      "https://www.wikileaf.com/strain/u-dub/\n",
      "U Dub not found\n",
      "https://www.wikileaf.com/strain/mystery-machine/\n",
      "Mystery Machine not found\n",
      "https://www.wikileaf.com/strain/shaolin-kush-#2/\n",
      "Shaolin Kush #2 not found\n",
      "https://www.wikileaf.com/strain/mindful-kush/\n",
      "Mindful Kush not found\n",
      "https://www.wikileaf.com/strain/hornblower/\n",
      "Hornblower not found\n",
      "https://www.wikileaf.com/strain/black-cherry-soda/\n",
      "indica\n",
      "https://www.wikileaf.com/strain/lemon-drop/\n",
      "indica\n",
      "https://www.wikileaf.com/strain/blueberry/\n",
      "indica\n",
      "https://www.wikileaf.com/strain/grape-kush/\n",
      "indica\n",
      "https://www.wikileaf.com/strain/grinspoon/\n",
      "Grinspoon not found\n",
      "https://www.wikileaf.com/strain/golden-cobra/\n",
      "Golden Cobra not found\n",
      "https://www.wikileaf.com/strain/montana-silvertip/\n",
      "sativa\n",
      "https://www.wikileaf.com/strain/dogwalker-og/\n",
      "Dogwalker OG not found\n",
      "https://www.wikileaf.com/strain/pineapple-express/\n"
     ]
    }
   ],
   "source": [
    "# Web Scrape class\n",
    "ind = [] # indica\n",
    "sat = [] # sativa\n",
    "hyb = [] # hybrid\n",
    "nf = [] # not found\n",
    "for name in namesDf:\n",
    "    url = 'https://www.wikileaf.com/strain/'\n",
    "    url = url + str(name).replace(' ', '-').lower() + '/'\n",
    "    print(url)\n",
    "    try:\n",
    "        parse_html_url = urlopen(url)\n",
    "        html_page = parse_html_url.read()\n",
    "        parse_html_url.close()\n",
    "\n",
    "        strain = BeautifulSoup(html_page, \"html.parser\")\n",
    "\n",
    "        vals = strain.findAll(\"div\", {\"class\":\"strain-description\"})\n",
    "        #val = val.get_text()\n",
    "        for val in vals:\n",
    "            val = val.get_text().lower()\n",
    "            #print(val)\n",
    "            if val.find(\"indica\") != -1:\n",
    "                print(\"indica\")\n",
    "                ind.append(name)\n",
    "                break\n",
    "            elif val.find(\"sativa\") != -1:\n",
    "                sat.append(name)\n",
    "                print(\"sativa\")\n",
    "                break\n",
    "            elif val.find(\"hybrid\") != -1:\n",
    "                print(\"hybrid\")\n",
    "                hyb.append(name)\n",
    "                break    \n",
    "            else:\n",
    "                nf.append(name)\n",
    "                pass\n",
    "        \n",
    "    except:\n",
    "        print(name, 'not found')\n",
    "        pass\n"
   ]
  },
  {
   "cell_type": "code",
   "execution_count": null,
   "metadata": {},
   "outputs": [],
   "source": [
    "ind = [] # indica\n",
    "sat = [] # sativa\n",
    "hyb = [] # hybrid\n",
    "display(nf)"
   ]
  }
 ],
 "metadata": {
  "kernelspec": {
   "display_name": "Python 3",
   "language": "python",
   "name": "python3"
  },
  "language_info": {
   "codemirror_mode": {
    "name": "ipython",
    "version": 3
   },
   "file_extension": ".py",
   "mimetype": "text/x-python",
   "name": "python",
   "nbconvert_exporter": "python",
   "pygments_lexer": "ipython3",
   "version": "3.7.6"
  }
 },
 "nbformat": 4,
 "nbformat_minor": 4
}
